{
 "cells": [
  {
   "cell_type": "code",
   "execution_count": 15,
   "metadata": {
    "collapsed": true
   },
   "outputs": [],
   "source": [
    "qiu next shu zu"
   ]
  },
  {
   "cell_type": "code",
   "execution_count": null,
   "metadata": {
    "collapsed": true
   },
   "outputs": [],
   "source": [
    "# each element of `next_array` means length of the longest-prefix-suffix-str tailed by `pat_str[i]`\n",
    "def get_next(pat_str):\n",
    "    assert len(pat_str) > 0\n",
    "    next_array = [0, ] * len(pat_str)\n",
    "    i = 1\n",
    "    while i < len(pat_str):\n",
    "        k = next_array[i-1] # length of the longest-prefix-suffix-str tailed by `pat_str[i-1]`\n",
    "        if pat_str[i] == pat_str[k]:\n",
    "            next_array[i] = next_array[i-1] + 1\n",
    "            i += 1\n",
    "        else:\n",
    "            k = next_array[i-1]\n",
    "            while k != 0 and pat_str[i] != pat_str[k-1]: # !!! attention, `pat_str[k-1]` NOT`pat_str[k]`\n",
    "                k = next_array[k-1]\n",
    "            if k == 0 and pat_str[i] != pat_str[0]: # match the first char, then check if equal\n",
    "                next_array[i] = 0\n",
    "            else: # pat_str[i] == pat_str[k-1]\n",
    "                next_array[i] = k + 1\n",
    "            i += 1\n",
    "    return next_array\n",
    "            "
   ]
  },
  {
   "cell_type": "code",
   "execution_count": 16,
   "metadata": {
    "collapsed": false
   },
   "outputs": [
    {
     "data": {
      "text/plain": [
       "[0, 0, 0, 1, 2, 3, 4, 0, 1, 2]"
      ]
     },
     "execution_count": 16,
     "metadata": {},
     "output_type": "execute_result"
    }
   ],
   "source": [
    "get_next('abcabcacab')"
   ]
  },
  {
   "cell_type": "code",
   "execution_count": 17,
   "metadata": {
    "collapsed": false
   },
   "outputs": [
    {
     "data": {
      "text/plain": [
       "[0, 0, 0, 1, 2, 3, 4, 5, 1, 2]"
      ]
     },
     "execution_count": 17,
     "metadata": {},
     "output_type": "execute_result"
    }
   ],
   "source": [
    "get_next('abcabcabab')"
   ]
  },
  {
   "cell_type": "code",
   "execution_count": 44,
   "metadata": {
    "collapsed": true
   },
   "outputs": [],
   "source": [
    "def error_kmp1(target, pat_str):\n",
    "    next_array = get_next(pat_str)\n",
    "    i, j = 0, 0\n",
    "    while i < len(target) and j < len(pat_str):\n",
    "        if target[i] == pat_str[j]:\n",
    "            i += 1\n",
    "            j += 1\n",
    "        else:\n",
    "            j = next_array[j] # ERROR: to know why here is `next_array[j-1]`, see `pat_str='abcabcx'` as an example\n",
    "    if j == len(pat_str):\n",
    "        return i - len(pat_str)\n",
    "    return -1"
   ]
  },
  {
   "cell_type": "code",
   "execution_count": null,
   "metadata": {
    "collapsed": true
   },
   "outputs": [],
   "source": [
    "error_kmp1('abcdefg', 'abab')"
   ]
  },
  {
   "cell_type": "code",
   "execution_count": null,
   "metadata": {
    "collapsed": true
   },
   "outputs": [],
   "source": [
    "def error_kmp2(target, pat_str):\n",
    "    next_array = get_next(pat_str)\n",
    "    print next_array\n",
    "    i, j = 0, 0\n",
    "    while i < len(target) and j < len(pat_str):\n",
    "        if target[i] == pat_str[j]:\n",
    "            i += 1\n",
    "            j += 1\n",
    "        else:\n",
    "            # ERROR: do not forget j-1 < 0 !!!\n",
    "            j = next_array[j-1] # to know why here is `next_array[j-1]`, see `pat_str='abcabcx'` as an example\n",
    "    if j == len(pat_str):\n",
    "        return i - len(pat_str)\n",
    "    return -1"
   ]
  },
  {
   "cell_type": "code",
   "execution_count": null,
   "metadata": {
    "collapsed": true
   },
   "outputs": [],
   "source": [
    "error_kmp2('ababaf', 'anaba')"
   ]
  },
  {
   "cell_type": "code",
   "execution_count": 41,
   "metadata": {
    "collapsed": true
   },
   "outputs": [],
   "source": [
    "def error_kmp1(target, pat_str):\n",
    "    next_array = get_next(pat_str)\n",
    "    print next_array\n",
    "    i, j = 0, 0\n",
    "    while i < len(target) and j < len(pat_str):\n",
    "        if target[i] == pat_str[j]:\n",
    "            i += 1\n",
    "            j += 1\n",
    "        else:\n",
    "            if j == 0: # do not forget j-1 < 0 !!!\n",
    "                i += 1\n",
    "                continue\n",
    "            j = next_array[j-1] # to know why here is `next_array[j-1]`, see `pat_str='abcabcx'` as an example\n",
    "    if j == len(pat_str):\n",
    "        return i - len(pat_str)\n",
    "    return -1\n"
   ]
  },
  {
   "cell_type": "code",
   "execution_count": null,
   "metadata": {
    "collapsed": true
   },
   "outputs": [],
   "source": []
  }
 ],
 "metadata": {
  "kernelspec": {
   "display_name": "Python [Root]",
   "language": "python",
   "name": "Python [Root]"
  },
  "language_info": {
   "codemirror_mode": {
    "name": "ipython",
    "version": 2
   },
   "file_extension": ".py",
   "mimetype": "text/x-python",
   "name": "python",
   "nbconvert_exporter": "python",
   "pygments_lexer": "ipython2",
   "version": "2.7.12"
  }
 },
 "nbformat": 4,
 "nbformat_minor": 0
}
